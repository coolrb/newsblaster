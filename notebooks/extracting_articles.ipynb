{
 "cells": [
  {
   "cell_type": "heading",
   "metadata": {},
   "level": 1,
   "source": [
    "Article Extractor Usage"
   ]
  },
  {
   "cell_type": "markdown",
   "metadata": {},
   "source": [
    "The ArticleExtractor is the first element of Newsblaster's NLP toolchain. Here, we show how to initialize and execute a naive-bayes classifier on the annotated articles in a particular folder."
   ]
  },
  {
   "cell_type": "heading",
   "metadata": {},
   "level": 6,
   "source": [
    "Import / Initialize NBClassifier"
   ]
  },
  {
   "cell_type": "code",
   "execution_count": 3,
   "metadata": {},
   "outputs": [
    {
     "name": "stdout",
     "output_type": "stream",
     "text": [
      "/Users/ziggy/Development/newsblaster/feature-extraction\n"
     ]
    }
   ],
   "source": [
    "cd ../feature-extraction/"
   ]
  },
  {
   "cell_type": "code",
   "execution_count": 4,
   "metadata": {},
   "outputs": [],
   "source": [
    "from NBClassifier import NBClassifier"
   ]
  },
  {
   "cell_type": "code",
   "execution_count": 5,
   "metadata": {},
   "outputs": [],
   "source": [
    "n = NBClassifier()"
   ]
  },
  {
   "cell_type": "heading",
   "metadata": {},
   "level": 6,
   "source": [
    "Call classify(folder_path)"
   ]
  },
  {
   "cell_type": "code",
   "execution_count": 6,
   "metadata": {},
   "outputs": [
    {
     "name": "stdout",
     "output_type": "stream",
     "text": [
      "sklearn.cross_validation.KFold(n=19674, n_folds=2, shuffle=True, random_state=None)\n",
      "('TRAIN:', array([    0,     1,     4, ..., 19671, 19672, 19673]), 'TEST:', array([    2,     3,     5, ..., 19668, 19669, 19670]))\n",
      "('TRAIN:', array([    2,     3,     5, ..., 19668, 19669, 19670]), 'TEST:', array([    0,     1,     4, ..., 19671, 19672, 19673]))\n",
      "             precision    recall  f1-score   support\n",
      "\n",
      "                  0.12      0.02      0.03        64\n",
      "     Author       0.00      0.00      0.00         3\n",
      "       Body       0.33      0.89      0.49       215\n",
      "       Date       0.05      0.55      0.09        11\n",
      "      Image       0.00      0.00      0.00         8\n",
      "ImageCaption       0.02      0.13      0.03        15\n",
      "   Location       0.00      0.00      0.00         2\n",
      "       None       0.99      0.93      0.96      9505\n",
      "SectionTitle       0.00      0.00      0.00         2\n",
      "   Subtitle       0.00      0.00      0.00         3\n",
      "      Title       0.00      0.00      0.00         9\n",
      "\n",
      "avg / total       0.96      0.92      0.94      9837\n"
     ]
    },
    {
     "name": "stdout",
     "output_type": "stream",
     "text": [
      "\n"
     ]
    },
    {
     "name": "stderr",
     "output_type": "stream",
     "text": [
      "/Users/ziggy/Development/newsblaster/env/lib/python2.7/site-packages/sklearn/metrics/metrics.py:1771: UndefinedMetricWarning: Precision and F-score are ill-defined and being set to 0.0 in labels with no predicted samples.\n",
      "  'precision', 'predicted', average, warn_for)\n"
     ]
    }
   ],
   "source": [
    "n.classify(\"annotated_articles\")"
   ]
  },
  {
   "cell_type": "markdown",
   "metadata": {},
   "source": [
    "The results shows the metrics of the NBClassifier running on the dataset of annotated articles."
   ]
  },
  {
   "cell_type": "markdown",
   "metadata": {},
   "source": [
    " - First, the articles are loaded into the HTMLVectorizer which uses BeautifulSoup to parse the HTML, find the annotated elements, and compute character features using the Charmeleon. Charmeleon is the Python version of the Charmander Java class written by Mike Wojo (can be found in folder article_annotator/old/ae/"
   ]
  },
  {
   "cell_type": "markdown",
   "metadata": {},
   "source": [
    " - Second, we use K-fold cross validation to break the data up into training + testing data."
   ]
  },
  {
   "cell_type": "markdown",
   "metadata": {},
   "source": [
    " - Lastly, we run the naive-bayes classifier and output the results using classification_report."
   ]
  },
  {
   "cell_type": "heading",
   "metadata": {},
   "level": 4,
   "source": [
    "Author: Ramzi Abdoch, Fall 2014"
   ]
  }
 ],
 "metadata": {
  "name": "",
  "signature": "sha256:b937e4619900393dce573fb2feec757207c31df266710883f09cbf432136704b"
 },
 "nbformat": 4,
 "nbformat_minor": 0
}