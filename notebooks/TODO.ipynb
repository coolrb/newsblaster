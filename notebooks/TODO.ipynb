{
 "metadata": {
  "name": "TODO"
 },
 "nbformat": 3,
 "nbformat_minor": 0,
 "worksheets": [
  {
   "cells": [
    {
     "cell_type": "heading",
     "level": 1,
     "metadata": {},
     "source": [
      "Newsblaster Components\n"
     ]
    },
    {
     "cell_type": "heading",
     "level": 2,
     "metadata": {},
     "source": [
      "Crawling (RSS, API)"
     ]
    },
    {
     "cell_type": "markdown",
     "metadata": {},
     "source": [
      "Target sites: <a href=\"http://www.4imn.com/top200/\">online newspapers</a>"
     ]
    },
    {
     "cell_type": "markdown",
     "metadata": {},
     "source": [
      "<h4>TODO:</h4>\n",
      "<ul>\n",
      "<li>[ ] Find english versions for foreign sites</li>\n",
      "<li>[ ] Determine flexibility of API/RSS feed, NOTE BENE: DO WE NEED TO SCRAPE PAGE DIRECTLY?</li>\n",
      "</ul> \n"
     ]
    },
    {
     "cell_type": "heading",
     "level": 2,
     "metadata": {},
     "source": [
      "Article Storage and IR"
     ]
    },
    {
     "cell_type": "markdown",
     "metadata": {},
     "source": [
      "<h4>TODO:</h4>\n",
      "<ul>\n",
      "<li>[ ] Set up ingestion engine that works on a daily/hourly basis with rss/api feeds</li>\n",
      "<li>[ ] Find location to store this data (possibly one of the coral's or new machines)</li>\n",
      "<li>[ ] Separate out content stores from annotation stores</li>\n",
      "<li>[ ] IR indexing of content (ElasticSearch or other),\n",
      "  <ul>\n",
      "  <li>[ ] Can we have iterative tf/idf on demand?</li>\n",
      "  <li>[ ] language modeling on demand?</li>\n",
      "  <li>[ ] web interface to observe how much data we are crawling per day</li>\n",
      "   <li>[ ] unified-meta data </li>\n",
      "  </ul></li>\n",
      "<li>[ ] ingest old archive storage</li>\n",
      "</ul>"
     ]
    },
    {
     "cell_type": "heading",
     "level": 2,
     "metadata": {},
     "source": [
      "Article Extraction (ML or rulebased)"
     ]
    },
    {
     "cell_type": "markdown",
     "metadata": {},
     "source": [
      "<h4>TODO:</h4>\n",
      "<ul>\n",
      "<li>[ ] port article extractor java 2 python</li>\n",
      "<li>[ ] annotate data</li>\n",
      "<li>[ ] meta-data extraction</li>\n",
      "</ul>\n"
     ]
    },
    {
     "cell_type": "code",
     "collapsed": false,
     "input": [],
     "language": "python",
     "metadata": {},
     "outputs": []
    }
   ],
   "metadata": {}
  }
 ]
}